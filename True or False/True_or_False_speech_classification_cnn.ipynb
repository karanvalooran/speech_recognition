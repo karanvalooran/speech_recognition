{
  "nbformat": 4,
  "nbformat_minor": 0,
  "metadata": {
    "accelerator": "GPU",
    "colab": {
      "name": "True_or_False_speech_classification_cnn.ipynb",
      "provenance": [],
      "collapsed_sections": []
    },
    "kernelspec": {
      "display_name": "Python 3",
      "name": "python3"
    }
  },
  "cells": [
    {
      "cell_type": "markdown",
      "metadata": {
        "id": "AHLHJk8ue_I3"
      },
      "source": [
        "##Training the CNN model"
      ]
    },
    {
      "cell_type": "code",
      "metadata": {
        "colab": {
          "base_uri": "https://localhost:8080/"
        },
        "id": "lGUirDOuxDFo",
        "outputId": "0f3cbe25-031e-491c-a7d9-3292622a20af"
      },
      "source": [
        "#importing the necessay libraries\r\n",
        "import json\r\n",
        "import numpy as np\r\n",
        "from sklearn.model_selection import train_test_split\r\n",
        "import tensorflow.keras as keras\r\n",
        "\r\n",
        "################################################################################################################\r\n",
        "#upload the JSON file containing the MFCC features\r\n",
        "DATA_PATH=\"/content/datasetTorF.json\"\r\n",
        "\r\n",
        "\r\n",
        "################################################################################################################\r\n",
        "#loading the features from the JSON file\r\n",
        "def load_data(data_path):\r\n",
        "\r\n",
        "  with open(data_path, \"r\") as fp:\r\n",
        "    data = json.load(fp)\r\n",
        "  \r\n",
        "  X = np.array(data[\"mfcc\"])\r\n",
        "  y = np.array(data[\"labels\"])\r\n",
        "\r\n",
        "  return X,y\r\n",
        "\r\n",
        "\r\n",
        "###############################################################################################################\r\n",
        "#Splitting the dataset into train, test and validation sets.\r\n",
        "def prepare_datasets(test_size, validation_size):\r\n",
        "\r\n",
        "  #calling the load_data function\r\n",
        "  X,y = load_data(DATA_PATH)\r\n",
        "\r\n",
        "  #create train/test split\r\n",
        "  X_train, X_test, y_train, y_test = train_test_split(X,y, test_size=test_size)\r\n",
        "\r\n",
        "  #create train/validation split\r\n",
        "  X_train, X_validation, y_train, y_validation = train_test_split(X_train,y_train, test_size=validation_size)\r\n",
        "\r\n",
        "  # 3d array -> (130,13,1)\r\n",
        "  X_train = X_train[..., np.newaxis]  #4d array (num_samples, 130,13,1)\r\n",
        "  X_validation = X_validation[..., np.newaxis]\r\n",
        "  X_test = X_test[..., np.newaxis]\r\n",
        "\r\n",
        "  return X_train, X_validation, X_test, y_train, y_validation, y_test\r\n",
        "\r\n",
        "\r\n",
        "##############################################################################################################\r\n",
        "#Training the dataset\r\n",
        "def build_model(input_shape):\r\n",
        "\r\n",
        "  #create a model\r\n",
        "  model = keras.Sequential()\r\n",
        "\r\n",
        "  #1st convolution layer\r\n",
        "  model.add(keras.layers.Conv2D(256, (3,3), activation=\"relu\", input_shape=input_shape))\r\n",
        "  model.add(keras.layers.MaxPool2D((2,2), strides=(2,2), padding='same'))\r\n",
        "  model.add(keras.layers.BatchNormalization())\r\n",
        "\r\n",
        "  #2nd convolution layer\r\n",
        "  model.add(keras.layers.Conv2D(64, (3,3), activation=\"relu\", input_shape=input_shape,padding='same' ))\r\n",
        "  model.add(keras.layers.MaxPool2D((2,2), strides=(2,2), padding='same'))\r\n",
        "  model.add(keras.layers.BatchNormalization())\r\n",
        "\r\n",
        "  #3rd convolution layer\r\n",
        "  model.add(keras.layers.Conv2D(32, (2,2), activation=\"relu\", input_shape=input_shape,padding='same'))\r\n",
        "  model.add(keras.layers.MaxPool2D((2,2), strides=(2,2), padding='same'))\r\n",
        "  model.add(keras.layers.BatchNormalization())\r\n",
        "\r\n",
        "  #flatten the output and feed it into dense layer\r\n",
        "  model.add(keras.layers.Flatten())\r\n",
        "  model.add(keras.layers.Dense(16, activation='relu'))\r\n",
        "  model.add(keras.layers.Dropout(0.3))\r\n",
        "\r\n",
        "  #output layer\r\n",
        "  model.add(keras.layers.Dense(2, activation='softmax'))\r\n",
        "\r\n",
        "  return model\r\n",
        "\r\n",
        "\r\n",
        "############################################################################################################\r\n",
        "#main program\r\n",
        "if __name__ ==\"__main__\":\r\n",
        "  #create train, validation and test sets\r\n",
        "  X_train, X_validation, X_test, y_train, y_validation, y_test = prepare_datasets(0.25,0.2)\r\n",
        "\r\n",
        "  #build the CNN net\r\n",
        "  input_shape = (X_train.shape[1],X_train.shape[2],X_train.shape[3] )  #4d array ->( num_of _samples, 130,13,1)\r\n",
        "  model = build_model(input_shape)\r\n",
        "\r\n",
        "  #compile the net\r\n",
        "  optimizer = keras.optimizers.Adam(learning_rate=0.0001)\r\n",
        "  model.compile(optimizer=optimizer,\r\n",
        "                loss=\"sparse_categorical_crossentropy\",\r\n",
        "                metrics=[\"accuracy\"])\r\n",
        "\r\n",
        "  #train  the CNN\r\n",
        "  r = model.fit(X_train, y_train, validation_data=(X_validation, y_validation), batch_size=5, epochs=10)\r\n",
        "\r\n",
        "  #evaluate the CNN on the test set\r\n",
        "  test_error, test_accuracy = model.evaluate(X_test, y_test, verbose=2)\r\n",
        "  \r\n",
        "  #printing the test_accuracy\r\n",
        "  print(\"The accuracy of the test set is {}.\".format(test_accuracy))\r\n",
        "\r\n",
        "\r\n",
        "\r\n"
      ],
      "execution_count": 5,
      "outputs": [
        {
          "output_type": "stream",
          "text": [
            "Epoch 1/10\n",
            "120/120 [==============================] - 1s 5ms/step - loss: 0.6658 - accuracy: 0.6221 - val_loss: 0.5411 - val_accuracy: 0.7533\n",
            "Epoch 2/10\n",
            "120/120 [==============================] - 0s 3ms/step - loss: 0.4101 - accuracy: 0.8094 - val_loss: 0.3994 - val_accuracy: 0.8400\n",
            "Epoch 3/10\n",
            "120/120 [==============================] - 0s 3ms/step - loss: 0.4339 - accuracy: 0.7818 - val_loss: 0.3136 - val_accuracy: 0.8667\n",
            "Epoch 4/10\n",
            "120/120 [==============================] - 0s 3ms/step - loss: 0.3571 - accuracy: 0.8512 - val_loss: 0.3173 - val_accuracy: 0.8333\n",
            "Epoch 5/10\n",
            "120/120 [==============================] - 0s 3ms/step - loss: 0.3373 - accuracy: 0.8419 - val_loss: 0.2994 - val_accuracy: 0.8867\n",
            "Epoch 6/10\n",
            "120/120 [==============================] - 0s 3ms/step - loss: 0.3464 - accuracy: 0.8165 - val_loss: 0.2941 - val_accuracy: 0.8200\n",
            "Epoch 7/10\n",
            "120/120 [==============================] - 0s 3ms/step - loss: 0.3056 - accuracy: 0.8581 - val_loss: 0.2869 - val_accuracy: 0.8600\n",
            "Epoch 8/10\n",
            "120/120 [==============================] - 0s 3ms/step - loss: 0.2854 - accuracy: 0.8684 - val_loss: 0.2874 - val_accuracy: 0.8467\n",
            "Epoch 9/10\n",
            "120/120 [==============================] - 0s 3ms/step - loss: 0.2657 - accuracy: 0.8832 - val_loss: 0.2497 - val_accuracy: 0.8667\n",
            "Epoch 10/10\n",
            "120/120 [==============================] - 0s 3ms/step - loss: 0.2735 - accuracy: 0.8938 - val_loss: 0.3005 - val_accuracy: 0.8400\n",
            "8/8 - 0s - loss: 0.3086 - accuracy: 0.8240\n",
            "The accuracy of the test set is 0.8240000009536743.\n"
          ],
          "name": "stdout"
        }
      ]
    },
    {
      "cell_type": "markdown",
      "metadata": {
        "id": "XVmvJv9VhZEY"
      },
      "source": [
        "##Plotting the accuracy and loss for training and validation set"
      ]
    },
    {
      "cell_type": "code",
      "metadata": {
        "colab": {
          "base_uri": "https://localhost:8080/",
          "height": 531
        },
        "id": "vku3uoUjbMae",
        "outputId": "33fae55f-6e87-4908-b1f1-9d1702c77184"
      },
      "source": [
        "######################################################################################################\r\n",
        "#importing matplot library\r\n",
        "import matplotlib.pyplot as plt\r\n",
        "\r\n",
        "# loss plot\r\n",
        "plt.plot(r.history['loss'], label='train loss')\r\n",
        "plt.plot(r.history['val_loss'], label='val loss')\r\n",
        "plt.legend()\r\n",
        "plt.show()\r\n",
        "plt.savefig('LossVal_loss')\r\n",
        "\r\n",
        "\r\n",
        "# accuracy plot\r\n",
        "plt.plot(r.history['accuracy'], label='train accuracy')\r\n",
        "plt.plot(r.history['val_accuracy'], label='val accuracy')\r\n",
        "plt.legend()\r\n",
        "plt.show()\r\n",
        "plt.savefig('AccVal_acc')"
      ],
      "execution_count": 7,
      "outputs": [
        {
          "output_type": "display_data",
          "data": {
            "image/png": "[encoded data removed]",
            "text/plain": [
              "<Figure size 432x288 with 1 Axes>"
            ]
          },
          "metadata": {
            "tags": [],
            "needs_background": "light"
          }
        },
        {
          "output_type": "display_data",
          "data": {
            "image/png": "[encoded data removed]",
            "text/plain": [
              "<Figure size 432x288 with 1 Axes>"
            ]
          },
          "metadata": {
            "tags": [],
            "needs_background": "light"
          }
        },
        {
          "output_type": "display_data",
          "data": {
            "text/plain": [
              "<Figure size 432x288 with 0 Axes>"
            ]
          },
          "metadata": {
            "tags": []
          }
        }
      ]
    },
    {
      "cell_type": "markdown",
      "metadata": {
        "id": "n9WRMcA-hkbi"
      },
      "source": [
        "##Making prediction on the sample"
      ]
    },
    {
      "cell_type": "code",
      "metadata": {
        "colab": {
          "base_uri": "https://localhost:8080/"
        },
        "id": "pxHTmtZ-94Pk",
        "outputId": "1ed70498-7f6e-4a67-c72c-51ff3c8e1f50"
      },
      "source": [
        "########################################################################################################\r\n",
        "def predict(model, X,y):\r\n",
        "\r\n",
        "  X = X[np.newaxis, ...]\r\n",
        "  prediction = model.predict(X)# X-> (1,130,13,1)\r\n",
        "\r\n",
        "  #extract index with max value\r\n",
        "  predicted_index = np.argmax(prediction, axis=1)\r\n",
        "\r\n",
        "  print(\"Expected index: {}, predicted index: {}\".format(y, predicted_index))\r\n",
        "\r\n",
        "\r\n",
        "X = X_test[11]\r\n",
        "y = y_test[11]\r\n",
        "\r\n",
        "predict(model,X,y)"
      ],
      "execution_count": 8,
      "outputs": [
        {
          "output_type": "stream",
          "text": [
            "Expected index: 0, predicted index: [0]\n"
          ],
          "name": "stdout"
        }
      ]
    },
    {
      "cell_type": "markdown",
      "metadata": {
        "id": "ddKCxIRNhst9"
      },
      "source": [
        "##Saving the model"
      ]
    },
    {
      "cell_type": "code",
      "metadata": {
        "id": "Xv-85n77BYCy"
      },
      "source": [
        "########################################################################################################\r\n",
        "import os.path\r\n",
        "if os.path.isfile('/content/TrueorFalse_model.h5') is False:\r\n",
        "  model.save('/content/TrueorFalse_model.h5')"
      ],
      "execution_count": 9,
      "outputs": []
    }
  ]
}